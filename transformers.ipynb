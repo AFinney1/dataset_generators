{
 "cells": [
  {
   "cell_type": "code",
   "execution_count": null,
   "metadata": {},
   "outputs": [],
   "source": [
    "import torch\n",
    "import transformers\n",
    "\n",
    "# Choose a transformer model architecture, such as BERT\n",
    "model = transformers.BertModel.from_pretrained('bert-base-uncased')\n",
    "\n",
    "# Prepare your training data\n",
    "train_dataset = ...\n",
    "\n",
    "# Define the loss function and optimizer\n",
    "loss_fn = torch.nn.CrossEntropyLoss()\n",
    "optimizer = torch.optim.Adam(model.parameters())\n",
    "\n",
    "# Train the model\n",
    "for epoch in range(num_epochs):\n",
    "  for inputs, labels in train_dataset:\n",
    "    outputs = model(inputs)\n",
    "    loss = loss_fn(outputs, labels)\n",
    "    optimizer.zero_grad()\n",
    "    loss.backward()\n",
    "    optimizer.step()\n",
    "\n",
    "# Evaluate the model on a validation dataset\n",
    "val_loss = ...\n",
    "\n",
    "# Use the trained model to make predictions on new data\n",
    "test_inputs = ...\n",
    "predictions = model(test_inputs)\n"
   ]
  },
  {
   "cell_type": "code",
   "execution_count": 1,
   "metadata": {},
   "outputs": [],
   "source": [
    "import pandas as pd\n",
    "import numpy as np\n",
    "import torch"
   ]
  },
  {
   "cell_type": "code",
   "execution_count": 3,
   "metadata": {},
   "outputs": [
    {
     "data": {
      "text/html": [
       "<div>\n",
       "<style scoped>\n",
       "    .dataframe tbody tr th:only-of-type {\n",
       "        vertical-align: middle;\n",
       "    }\n",
       "\n",
       "    .dataframe tbody tr th {\n",
       "        vertical-align: top;\n",
       "    }\n",
       "\n",
       "    .dataframe thead th {\n",
       "        text-align: right;\n",
       "    }\n",
       "</style>\n",
       "<table border=\"1\" class=\"dataframe\">\n",
       "  <thead>\n",
       "    <tr style=\"text-align: right;\">\n",
       "      <th></th>\n",
       "      <th>Date</th>\n",
       "      <th>Load</th>\n",
       "    </tr>\n",
       "  </thead>\n",
       "  <tbody>\n",
       "    <tr>\n",
       "      <th>0</th>\n",
       "      <td>1/1/2022 12:00:00 AM</td>\n",
       "      <td>38145.79</td>\n",
       "    </tr>\n",
       "    <tr>\n",
       "      <th>1</th>\n",
       "      <td>1/1/2022 1:00:00 AM</td>\n",
       "      <td>37158.13</td>\n",
       "    </tr>\n",
       "    <tr>\n",
       "      <th>2</th>\n",
       "      <td>1/1/2022 2:00:00 AM</td>\n",
       "      <td>35966.24</td>\n",
       "    </tr>\n",
       "    <tr>\n",
       "      <th>3</th>\n",
       "      <td>1/1/2022 3:00:00 AM</td>\n",
       "      <td>35148.96</td>\n",
       "    </tr>\n",
       "    <tr>\n",
       "      <th>4</th>\n",
       "      <td>1/1/2022 4:00:00 AM</td>\n",
       "      <td>34610.33</td>\n",
       "    </tr>\n",
       "  </tbody>\n",
       "</table>\n",
       "</div>"
      ],
      "text/plain": [
       "                   Date      Load\n",
       "0  1/1/2022 12:00:00 AM  38145.79\n",
       "1   1/1/2022 1:00:00 AM  37158.13\n",
       "2   1/1/2022 2:00:00 AM  35966.24\n",
       "3   1/1/2022 3:00:00 AM  35148.96\n",
       "4   1/1/2022 4:00:00 AM  34610.33"
      ]
     },
     "execution_count": 3,
     "metadata": {},
     "output_type": "execute_result"
    }
   ],
   "source": [
    "ercot_2022_actual_load_df = pd.read_csv('downloaded/20220101-20221212 ERCOT Actual Load.csv')\n",
    "ercot_2022_actual_load_df.head()"
   ]
  },
  {
   "cell_type": "code",
   "execution_count": null,
   "metadata": {},
   "outputs": [],
   "source": [
    "class TimeseriesDataset(torch.utils.data.Dataset):   \n",
    "    def __init__(self, X, y, seq_len=1):\n",
    "        self.X = X\n",
    "        self.y = y\n",
    "        self.seq_len = seq_len\n",
    "\n",
    "    def __len__(self):\n",
    "        return self.X.__len__() - (self.seq_len-1)\n",
    "\n",
    "    def __getitem__(self, index):\n",
    "        return (self.X[index:index+self.seq_len], self.y[index+self.seq_len-1])\n"
   ]
  },
  {
   "cell_type": "code",
   "execution_count": null,
   "metadata": {},
   "outputs": [],
   "source": [
    "train_dataset = TimeseriesDataset(X_lstm, y_lstm, seq_len=4)\n",
    "train_loader = torch.utils.data.DataLoader(train_dataset, batch_size = 3, shuffle = False)\n",
    "\n",
    "for i, d in enumerate(train_loader):\n",
    "    print(i, d[0].shape, d[1].shape)\n",
    "\n",
    "# shape: tuple((batch_size, seq_len, n_features), (batch_size)\n",
    "h = (torch.randn(1, 3, 128), torch.randn(1, 3, 128))"
   ]
  },
  {
   "cell_type": "code",
   "execution_count": null,
   "metadata": {},
   "outputs": [],
   "source": [
    "import torch\n",
    "import torch.nn as nn\n",
    "\n",
    "class Transformer(nn.Module):\n",
    "  def __init__(self, input_dim, output_dim, hidden_dim, num_layers, num_heads):\n",
    "    super(Transformer, self).__init__()\n",
    "\n",
    "    self.encoder = nn.TransformerEncoder(\n",
    "      nn.TransformerEncoderLayer(input_dim, hidden_dim, num_heads),\n",
    "      num_layers\n",
    "    )\n",
    "\n",
    "    self.decoder = nn.TransformerDecoder(\n",
    "      nn.TransformerDecoderLayer(output_dim, hidden_dim, num_heads),\n",
    "      num_layers\n",
    "    )\n",
    "\n",
    "    self.output_layer = nn.Linear(hidden_dim, output_dim)\n",
    "\n",
    "  def forward(self, src, trg):\n",
    "    context = self.encoder(src)\n",
    "    output = self.decoder(trg, context)\n",
    "    return self.output_layer(output)\n"
   ]
  },
  {
   "cell_type": "code",
   "execution_count": null,
   "metadata": {},
   "outputs": [],
   "source": []
  }
 ],
 "metadata": {
  "kernelspec": {
   "display_name": "Python 3.9.15 ('Py9')",
   "language": "python",
   "name": "python3"
  },
  "language_info": {
   "codemirror_mode": {
    "name": "ipython",
    "version": 3
   },
   "file_extension": ".py",
   "mimetype": "text/x-python",
   "name": "python",
   "nbconvert_exporter": "python",
   "pygments_lexer": "ipython3",
   "version": "3.9.15"
  },
  "orig_nbformat": 4,
  "vscode": {
   "interpreter": {
    "hash": "44fe909950c17bf228e77f937df459853b2996d211099b019aac185bdac4e51f"
   }
  }
 },
 "nbformat": 4,
 "nbformat_minor": 2
}
