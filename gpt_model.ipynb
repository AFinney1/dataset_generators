{
 "cells": [
  {
   "cell_type": "code",
   "execution_count": null,
   "metadata": {},
   "outputs": [],
   "source": [
    "import random\n",
    "import numpy as np\n",
    "import pandas as pd\n",
    "from transformers import GPT2Tokenizer, GPT2LMHeadModel\n",
    "\n",
    "# Set the random seed for reproducibility\n",
    "random.seed(42)\n",
    "np.random.seed(42)\n",
    "\n",
    "# Set the start and end date for the time-series\n",
    "start_date = '1/1/2022'\n",
    "end_date = '12/31/2022'\n",
    "\n",
    "# Generate a range of dates between the start and end date\n",
    "dates = pd.date_range(start_date, end_date, freq='H')\n",
    "\n",
    "# Load the GPT-2 model and tokenizer\n",
    "model = GPT2LMHeadModel.from_pretrained('gpt2')\n",
    "tokenizer = GPT2Tokenizer.from_pretrained('gpt2')\n",
    "\n",
    "# Set the maximum sequence length\n",
    "max_seq_len = 20\n",
    "\n",
    "# Create an empty list to store the electrical load values\n",
    "loads = []\n",
    "\n",
    "# Iterate over the dates and generate synthetic load values\n",
    "for date in dates:\n",
    "    # Convert the date to a string\n",
    "    date_str = date.strftime('%m/%d/%Y %I:%M %p')\n",
    "\n",
    "    # Encode the input text\n",
    "    input_text = f'Electricity load on {date_str}'\n",
    "    input_ids = tokenizer.encode(input_text, return_tensors='pt')\n",
    "\n",
    "    # Generate a prediction\n",
    "    prediction = model.generate(input_ids, max_length=max_seq_len)\n",
    "    prediction_str = tokenizer.decode(prediction[0], skip_special_tokens=True)\n",
    "\n",
    "    # Extract the load value from the prediction string\n",
    "    load_str = prediction_str.split()[-1]\n",
    "    if load_str.isdigit():\n",
    "        load = float(load_str)\n",
    "    else:\n",
    "        # If the load value is not a number, set it to 0\n",
    "        load = 0.0\n",
    "\n",
    "    # Add the load value to the list\n",
    "    loads.append(load)\n",
    "\n",
    "# Create a dataframe with the dates and load values\n",
    "df = pd.DataFrame({'Date': dates, 'Load': loads})\n",
    "\n",
    "# Print the resulting dataframe\n",
    "print(df)\n"
   ]
  }
 ],
 "metadata": {
  "kernelspec": {
   "display_name": "dashx",
   "language": "python",
   "name": "python3"
  },
  "language_info": {
   "codemirror_mode": {
    "name": "ipython",
    "version": 3
   },
   "file_extension": ".py",
   "mimetype": "text/x-python",
   "name": "python",
   "nbconvert_exporter": "python",
   "pygments_lexer": "ipython3",
   "version": "3.8.12"
  },
  "orig_nbformat": 4,
  "vscode": {
   "interpreter": {
    "hash": "de5c184b332d5e58c9dc43895afb5dcc9751d53cc98ed2b6edac72b496a59376"
   }
  }
 },
 "nbformat": 4,
 "nbformat_minor": 2
}
