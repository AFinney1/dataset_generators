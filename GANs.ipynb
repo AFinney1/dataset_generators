{
 "cells": [
  {
   "cell_type": "code",
   "execution_count": null,
   "metadata": {},
   "outputs": [],
   "source": [
    "import torch\n",
    "import torch.nn as nn\n",
    "\n",
    "# Set random seed for reproducibility\n",
    "torch.manual_seed(0)\n",
    "\n",
    "# Define the generator network\n",
    "class Generator(nn.Module):\n",
    "    def __init__(self, input_size, hidden_size, output_size):\n",
    "        super().__init__()\n",
    "        self.fc1 = nn.Linear(input_size, hidden_size)\n",
    "        self.fc2 = nn.Linear(hidden_size, hidden_size)\n",
    "        self.fc3 = nn.Linear(hidden_size, output_size)\n",
    "        \n",
    "    def forward(self, x):\n",
    "        x = torch.relu(self.fc1(x))\n",
    "        x = torch.relu(self.fc2(x))\n",
    "        return self.fc3(x)\n",
    "\n",
    "# Define the discriminator network\n",
    "class Discriminator(nn.Module):\n",
    "    def __init__(self, input_size, hidden_size, output_size):\n",
    "        super().__init__()\n",
    "        self.fc1 = nn.Linear(input_size, hidden_size)\n",
    "        self.fc2 = nn.Linear(hidden_size, hidden_size)\n",
    "        self.fc3 = nn.Linear(hidden_size, output_size)\n",
    "        \n",
    "    def forward(self, x):\n",
    "        x = torch.relu(self.fc1(x))\n",
    "        x = torch.relu(self.fc2(x))\n",
    "        return torch.sigmoid(self.fc3(x))\n",
    "\n",
    "# Set the input and output sizes\n",
    "input_size = 15\n",
    "output_size = 1\n",
    "\n",
    "# Set the hidden size\n",
    "hidden_size = 32\n",
    "\n",
    "# Instantiate the generator and discriminator networks\n",
    "generator = Generator(input)\n",
    "discriminator = Discriminator(generator)\n",
    "\n",
    "optimizer = torch.optim.Adam(list(generator.parameters()) + list(discriminator.parameters()), lr=0.001)\n",
    "optimizer_G = torch.optim.Adam(generator.parameters(), lr=0.001)"
   ]
  },
  {
   "cell_type": "code",
   "execution_count": null,
   "metadata": {},
   "outputs": [],
   "source": [
    "# Define the generator and discriminator networks\n",
    "generator = Generator()\n",
    "discriminator = Discriminator()\n",
    "\n",
    "# Use the Sequential class to combine the networks\n",
    "model = torch.nn.Sequential(generator, discriminator)\n",
    "\n",
    "# Define the optimizer\n",
    "optimizer = torch.optim.Adam(model.parameters(), lr=0.001)\n",
    "\n",
    "\n",
    "\n",
    "# Train the model\n",
    "num_epochs = 10 \n",
    "for i in range(num_epochs):\n",
    "  # Generate fake data\n",
    "  fake_data = generator.forward(noise)\n",
    "\n",
    "  # Classify the fake data using the discriminator\n",
    "  preds = model.forward(fake_data)\n",
    "\n",
    "  # Compute the loss and optimize the model\n",
    "  loss = loss_fn(preds, labels)\n",
    "  optimizer.zero_grad()\n",
    "  loss.backward()\n",
    "  optimizer.step()\n"
   ]
  }
 ],
 "metadata": {
  "kernelspec": {
   "display_name": "Python 3.9.15 ('Py9')",
   "language": "python",
   "name": "python3"
  },
  "language_info": {
   "name": "python",
   "version": "3.9.15 (main, Nov 24 2022, 14:31:59) \n[GCC 11.2.0]"
  },
  "orig_nbformat": 4,
  "vscode": {
   "interpreter": {
    "hash": "44fe909950c17bf228e77f937df459853b2996d211099b019aac185bdac4e51f"
   }
  }
 },
 "nbformat": 4,
 "nbformat_minor": 2
}
